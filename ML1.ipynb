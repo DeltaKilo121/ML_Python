{
 "cells": [
  {
   "cell_type": "code",
   "execution_count": 16,
   "metadata": {},
   "outputs": [
    {
     "name": "stdout",
     "output_type": "stream",
     "text": [
      "Enter your name: Dipankar\n",
      "Enter your age: 22\n",
      "Enter the number of copies you want: 5\n",
      "Dipankar, you will be 100 years old in the year 2099\n",
      "\n",
      "Dipankar, you will be 100 years old in the year 2099\n",
      "\n",
      "Dipankar, you will be 100 years old in the year 2099\n",
      "\n",
      "Dipankar, you will be 100 years old in the year 2099\n",
      "\n",
      "Dipankar, you will be 100 years old in the year 2099\n",
      "\n"
     ]
    }
   ],
   "source": [
    "#program 1\n",
    "from datetime import date\n",
    "\n",
    "def hundredyears():\n",
    "    curr_date=date.today()\n",
    "\n",
    "    name=input('Enter your name: ')\n",
    "    age= int(input('Enter your age: '))\n",
    "    copy= int(input('Enter the number of copies you want: '))\n",
    "\n",
    "    age_100= (curr_date.year-age) + 100\n",
    "\n",
    "    for i in range(copy):\n",
    "        print(name+ ', you will be 100 years old in the year ' +str(age_100)+ '\\n')\n",
    "    \n",
    "hundredyears()"
   ]
  },
  {
   "cell_type": "code",
   "execution_count": 29,
   "metadata": {},
   "outputs": [
    {
     "name": "stdout",
     "output_type": "stream",
     "text": [
      "1\n",
      "\n",
      "1\n",
      "\n",
      "2\n",
      "\n",
      "3\n",
      "\n",
      "[1, 1, 2, 3]\n",
      "The new list in one line [1, 1, 2, 3]\n",
      "Enter a number: 30\n",
      "[1, 1, 2, 3, 5, 8, 13, 21]\n"
     ]
    }
   ],
   "source": [
    "#program 2\n",
    "def listofnumbers(list):\n",
    "    new_list=[]\n",
    "    new_list1=[]\n",
    "\n",
    "    for i in a:\n",
    "        if i<5:\n",
    "            print(str(i) + '\\n')\n",
    "            ##1. Appending \n",
    "            new_list.append(i)\n",
    "\n",
    "    print(new_list)\n",
    "    ##2. Printin in one line\n",
    "    print('The new list in one line '+ str(new_list))\n",
    "    \n",
    "    ##3. Users choice\n",
    "    num=int(input('Enter a number: '))\n",
    "    \n",
    "    for i in a:\n",
    "        if i<num:\n",
    "            new_list1.append(i)\n",
    "    print(new_list1)\n",
    "    \n",
    "a=[1,1,2,3,5,8,13,21,34,55, 89]\n",
    "listofnumbers(a)"
   ]
  },
  {
   "cell_type": "code",
   "execution_count": 37,
   "metadata": {},
   "outputs": [
    {
     "name": "stdout",
     "output_type": "stream",
     "text": [
      "Enter the number of numbers in Fibonacci sequence: 10\n",
      "1\n",
      "1\n",
      "2\n",
      "3\n",
      "5\n",
      "8\n",
      "13\n",
      "21\n",
      "34\n",
      "55\n"
     ]
    }
   ],
   "source": [
    "#program 3\n",
    "def fibo(num):\n",
    "    if num <=1 :\n",
    "        return num\n",
    "    else:\n",
    "        return (fibo(num-1) + fibo(num-2))\n",
    "        \n",
    "\n",
    "n= int(input('Enter the number of numbers in Fibonacci sequence: '))\n",
    "for i in range(n + 1):\n",
    "    if i==0:\n",
    "        continue\n",
    "    print(fibo(i))\n",
    "        "
   ]
  },
  {
   "cell_type": "code",
   "execution_count": 40,
   "metadata": {},
   "outputs": [
    {
     "name": "stdout",
     "output_type": "stream",
     "text": [
      "Without using Sets\n",
      "1\n",
      "2\n",
      "3\n",
      "5\n",
      "8\n",
      "13\n",
      "21\n",
      "34\n",
      "55\n",
      "89\n"
     ]
    }
   ],
   "source": [
    "#program 4\n",
    "def unique_list(lst):\n",
    "  unique = []\n",
    "  for l in lst:\n",
    "    if l not in unique:\n",
    "      unique.append(l)\n",
    "  for x in unique:\n",
    "    print(x)\n",
    "\n",
    "def using_set(lst):\n",
    "  list_set = set(lst)\n",
    "  unique_list = list(list_set)\n",
    "  for x in unique_list:\n",
    "    print(x)\n",
    "\n",
    "a = [1, 1, 2, 3, 5, 8, 13, 21, 34, 55, 89, 21, 89]\n",
    "print(\"Without using Sets\")\n",
    "unique_list(a)    "
   ]
  },
  {
   "cell_type": "code",
   "execution_count": 39,
   "metadata": {},
   "outputs": [
    {
     "name": "stdout",
     "output_type": "stream",
     "text": [
      "Using sets\n",
      "1\n",
      "2\n",
      "3\n",
      "34\n",
      "5\n",
      "8\n",
      "13\n",
      "21\n",
      "55\n",
      "89\n"
     ]
    }
   ],
   "source": [
    "print('Using sets')\n",
    "using_set(a)"
   ]
  },
  {
   "cell_type": "code",
   "execution_count": 59,
   "metadata": {},
   "outputs": [
    {
     "name": "stdout",
     "output_type": "stream",
     "text": [
      "Enter a number:15\n",
      "15 is not a Prime number\n"
     ]
    }
   ],
   "source": [
    "#program 5\n",
    "def check(n):\n",
    "    c=0\n",
    "    for i in range(1,n+1):\n",
    "        if n%i==0:\n",
    "            c=c+1\n",
    "    if c==2:\n",
    "        print(str(n) +' is a Prime number')\n",
    "    else:\n",
    "        print(str(n) +' is not a Prime number')\n",
    "\n",
    "num = int(input('Enter a number:'))\n",
    "check(num)"
   ]
  },
  {
   "cell_type": "code",
   "execution_count": 1,
   "metadata": {},
   "outputs": [
    {
     "ename": "NameError",
     "evalue": "name 'check' is not defined",
     "output_type": "error",
     "traceback": [
      "\u001b[1;31m---------------------------------------------------------------------------\u001b[0m",
      "\u001b[1;31mNameError\u001b[0m                                 Traceback (most recent call last)",
      "\u001b[1;32m<ipython-input-1-fc146618cbc4>\u001b[0m in \u001b[0;36m<module>\u001b[1;34m\u001b[0m\n\u001b[1;32m----> 1\u001b[1;33m \u001b[0mcheck\u001b[0m\u001b[1;33m(\u001b[0m\u001b[1;36m9\u001b[0m\u001b[1;33m)\u001b[0m\u001b[1;33m\u001b[0m\u001b[1;33m\u001b[0m\u001b[0m\n\u001b[0m",
      "\u001b[1;31mNameError\u001b[0m: name 'check' is not defined"
     ]
    }
   ],
   "source": []
  },
  {
   "cell_type": "code",
   "execution_count": null,
   "metadata": {},
   "outputs": [],
   "source": []
  }
 ],
 "metadata": {
  "kernelspec": {
   "display_name": "Python 3",
   "language": "python",
   "name": "python3"
  },
  "language_info": {
   "codemirror_mode": {
    "name": "ipython",
    "version": 3
   },
   "file_extension": ".py",
   "mimetype": "text/x-python",
   "name": "python",
   "nbconvert_exporter": "python",
   "pygments_lexer": "ipython3",
   "version": "3.8.5"
  }
 },
 "nbformat": 4,
 "nbformat_minor": 4
}
